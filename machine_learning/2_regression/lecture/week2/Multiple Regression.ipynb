{
 "cells": [
  {
   "cell_type": "markdown",
   "metadata": {},
   "source": [
    "# 1) Multiple features of one input"
   ]
  },
  {
   "cell_type": "markdown",
   "metadata": {},
   "source": [
    "## 1) Polynomial regression"
   ]
  },
  {
   "cell_type": "markdown",
   "metadata": {},
   "source": [
    "Instead of using simple linear regression model, you could consider even higher order polynomials."
   ]
  },
  {
   "cell_type": "markdown",
   "metadata": {},
   "source": [
    "<img src=\"images/lec2_pic01.png\">\n",
    "<img src=\"images/lec2_pic02.png\">\n",
    "<img src=\"images/lec2_pic03.png\">\n",
    "<img src=\"images/lec2_pic04.png\">\n",
    "\n",
    "*Screenshot taken from [Coursera](https://www.coursera.org/learn/ml-regression/lecture/hMhl1/polynomial-regression) 1:00*\n",
    "\n",
    "<!--TEASER_END-->"
   ]
  },
  {
   "cell_type": "markdown",
   "metadata": {},
   "source": [
    "So here's our generic polynomial regression model, where we take our observation, $y_i$, and model it as this polynomial in terms of, for example, square feet of our house, which is just some input x. And then we assume that there's some error, epsilon i. So that's the error associated with the ith observation.\n",
    "\n",
    "And what we see is that in this model, in contrast to our simple linear regression model, we have all these powers of x\n",
    "that are now appearing in the model. And what we can do, is we can treat these different powers of x as features. \n",
    "- feature 1 = 1 (constant)\n",
    "- feature 2 = x\n",
    "- feature 3 = $x^2$\n",
    "\n",
    "And associated with each one of these features in our model is a parameter. So we have some p+1 parameters, $w_0$, which is just the intercept term. All the way up to wp, the coefficient associated with pth power of our input."
   ]
  },
  {
   "cell_type": "markdown",
   "metadata": {},
   "source": [
    "<img src=\"images/lec2_pic05.png\">\n",
    "\n",
    "*Screenshot taken from [Coursera](https://www.coursera.org/learn/ml-regression/lecture/hMhl1/polynomial-regression) 3:37*\n",
    "\n",
    "<!--TEASER_END-->"
   ]
  },
  {
   "cell_type": "markdown",
   "metadata": {},
   "source": [
    "## 2) Modeling seasonality"
   ]
  },
  {
   "cell_type": "markdown",
   "metadata": {},
   "source": [
    "Let's just go through one application in detrending time series."
   ]
  },
  {
   "cell_type": "markdown",
   "metadata": {},
   "source": [
    "<img src=\"images/lec2_pic06.png\">\n",
    "<img src=\"images/lec2_pic07.png\">\n",
    "<img src=\"images/lec2_pic08.png\">\n",
    "\n",
    "*Screenshot taken from [Coursera](https://www.coursera.org/learn/ml-regression/lecture/hFRqn/modeling-seasonality) 2:00*\n",
    "\n",
    "<!--TEASER_END-->"
   ]
  },
  {
   "cell_type": "markdown",
   "metadata": {},
   "source": [
    "**Let's write down the model for this application**"
   ]
  },
  {
   "cell_type": "markdown",
   "metadata": {},
   "source": [
    "<img src=\"images/lec2_pic09.png\">\n",
    "<img src=\"images/lec2_pic10.png\">\n",
    "\n",
    "*Screenshot taken from [Coursera](https://www.coursera.org/learn/ml-regression/lecture/hFRqn/modeling-seasonality) 7:00*\n",
    "\n",
    "<!--TEASER_END-->"
   ]
  },
  {
   "cell_type": "markdown",
   "metadata": {},
   "source": [
    "**Let's apply this model to our housing data**"
   ]
  },
  {
   "cell_type": "markdown",
   "metadata": {},
   "source": [
    "<img src=\"images/lec2_pic11.png\">\n",
    "<img src=\"images/lec2_pic12.png\">\n",
    "\n",
    "*Screenshot taken from [Coursera](https://www.coursera.org/learn/ml-regression/lecture/hFRqn/modeling-seasonality) 8:00*\n",
    "\n",
    "<!--TEASER_END-->"
   ]
  },
  {
   "cell_type": "markdown",
   "metadata": {},
   "source": [
    "## 3) Where we see seasonality"
   ]
  },
  {
   "cell_type": "markdown",
   "metadata": {},
   "source": [
    "So we keep talking about this housing application. And it's really a nice intuitive way to describe the different methods in regression that we're gonna be talking about.\n",
    "\n",
    "But regression, like we've mentioned, is much, much, much more widely applicable. And this notation of capturing seasonality also appears in lots of applications beyond just housing. And so I wanted to spend a little time talking about other places where we see this seasonality or seasonal effects coming into play."
   ]
  },
  {
   "cell_type": "markdown",
   "metadata": {},
   "source": [
    "<img src=\"images/lec2_pic13.png\">\n",
    "\n",
    "*Screenshot taken from [Coursera](https://www.coursera.org/learn/ml-regression/lecture/SHy67/where-we-see-seasonality) 1:40*\n",
    "\n",
    "<!--TEASER_END-->"
   ]
  },
  {
   "cell_type": "markdown",
   "metadata": {},
   "source": [
    "## 4) Regression with general features of 1 input"
   ]
  },
  {
   "cell_type": "markdown",
   "metadata": {},
   "source": [
    "So we talked about polynomial regression, where you have different powers of your input. And we also talked about seasonality where you have these sine and cosine bases. But we can really think about any function of our single input. So let's write down our model a little bit more generically in terms of some set of features.\n",
    "\n",
    "And I'm gonna denote each one of my features with this function h.\n",
    "- $h_0$: first feature\n",
    "- $h_1$: second feature\n",
    "- $h_D$: last feature\n",
    "So we can more compactly represent this model using the sigma notation that we introduced previously.\n"
   ]
  },
  {
   "cell_type": "markdown",
   "metadata": {},
   "source": [
    "<img src=\"images/lec2_pic14.png\">\n",
    "<img src=\"images/lec2_pic15.png\">\n",
    "\n",
    "*Screenshot taken from [Coursera](https://www.coursera.org/learn/ml-regression/lecture/SHy67/where-we-see-seasonality) 1:33*\n",
    "\n",
    "<!--TEASER_END-->"
   ]
  },
  {
   "cell_type": "markdown",
   "metadata": {},
   "source": [
    "So, going back to our regression flow chart or block diagram here, we kinda swept something under the rug before. We never really highlighted this blue feature extraction box, and we just said the output of it was x. Really, now that we've learned a little bit more about regression and this notion of features, really the output of this feature extraction is not x but h(x). It's our features of our input x. So x is really the input to our feature extractor, and the output is some set of functions of x. So for the remainder of this course, we're gonna assume that the output of this feature extraction box is h of x."
   ]
  },
  {
   "cell_type": "markdown",
   "metadata": {},
   "source": [
    "<img src=\"images/lec2_pic16.png\">\n",
    "\n",
    "*Screenshot taken from [Coursera](https://www.coursera.org/learn/ml-regression/lecture/SHy67/where-we-see-seasonality) 2:22*\n",
    "\n",
    "<!--TEASER_END-->"
   ]
  },
  {
   "cell_type": "code",
   "execution_count": null,
   "metadata": {
    "collapsed": true
   },
   "outputs": [],
   "source": []
  }
 ],
 "metadata": {
  "kernelspec": {
   "display_name": "Python 2",
   "language": "python",
   "name": "python2"
  },
  "language_info": {
   "codemirror_mode": {
    "name": "ipython",
    "version": 2
   },
   "file_extension": ".py",
   "mimetype": "text/x-python",
   "name": "python",
   "nbconvert_exporter": "python",
   "pygments_lexer": "ipython2",
   "version": "2.7.10"
  }
 },
 "nbformat": 4,
 "nbformat_minor": 0
}
